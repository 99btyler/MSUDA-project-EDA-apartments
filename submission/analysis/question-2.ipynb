{
 "cells": [
  {
   "cell_type": "markdown",
   "id": "0029a48e-c62c-4a9e-9ba9-1f6e70664f74",
   "metadata": {},
   "source": [
    "# Question 2: How do apartment prices vary between cities within the same state?"
   ]
  },
  {
   "cell_type": "code",
   "execution_count": 26,
   "id": "ed5981f5-5cf8-47c6-81c1-441e565a1282",
   "metadata": {},
   "outputs": [],
   "source": [
    "# Required:\n",
    "# --- 2 visualizations\n",
    "# ------ clear and accurate labels\n",
    "# ------ precise explanations\n",
    "# --- final analysis\n",
    "# ------ aggregation, correlation, comparison, summary statistics, sentiment analysis, and time series analysis"
   ]
  },
  {
   "cell_type": "code",
   "execution_count": 30,
   "id": "d3cd3b5e-3202-4a48-a4c1-dbe3aa97e00f",
   "metadata": {},
   "outputs": [],
   "source": [
    "import matplotlib.pyplot as plt\n",
    "import pandas as pd\n",
    "\n",
    "data_filepath = \"data/data.csv\""
   ]
  },
  {
   "cell_type": "code",
   "execution_count": 25,
   "id": "ab994859-eaeb-4335-b340-b8dd7c3eeac0",
   "metadata": {},
   "outputs": [
    {
     "data": {
      "text/html": [
       "<div>\n",
       "<style scoped>\n",
       "    .dataframe tbody tr th:only-of-type {\n",
       "        vertical-align: middle;\n",
       "    }\n",
       "\n",
       "    .dataframe tbody tr th {\n",
       "        vertical-align: top;\n",
       "    }\n",
       "\n",
       "    .dataframe thead th {\n",
       "        text-align: right;\n",
       "    }\n",
       "</style>\n",
       "<table border=\"1\" class=\"dataframe\">\n",
       "  <thead>\n",
       "    <tr style=\"text-align: right;\">\n",
       "      <th></th>\n",
       "      <th>Unnamed: 0</th>\n",
       "      <th>id</th>\n",
       "      <th>bathrooms</th>\n",
       "      <th>bedrooms</th>\n",
       "      <th>fee</th>\n",
       "      <th>price</th>\n",
       "      <th>square_feet</th>\n",
       "      <th>cityname</th>\n",
       "      <th>state</th>\n",
       "      <th>latitude</th>\n",
       "      <th>longitude</th>\n",
       "      <th>date</th>\n",
       "      <th>price_per_square_ft</th>\n",
       "    </tr>\n",
       "  </thead>\n",
       "  <tbody>\n",
       "    <tr>\n",
       "      <th>0</th>\n",
       "      <td>0</td>\n",
       "      <td>5668640009</td>\n",
       "      <td>1.0</td>\n",
       "      <td>1.0</td>\n",
       "      <td>No</td>\n",
       "      <td>2195.0</td>\n",
       "      <td>542</td>\n",
       "      <td>Redondo Beach</td>\n",
       "      <td>CA</td>\n",
       "      <td>33.8520</td>\n",
       "      <td>-118.3759</td>\n",
       "      <td>2019-12-26</td>\n",
       "      <td>4.049815</td>\n",
       "    </tr>\n",
       "    <tr>\n",
       "      <th>1</th>\n",
       "      <td>1</td>\n",
       "      <td>5668639818</td>\n",
       "      <td>1.5</td>\n",
       "      <td>3.0</td>\n",
       "      <td>No</td>\n",
       "      <td>1250.0</td>\n",
       "      <td>1500</td>\n",
       "      <td>Newport News</td>\n",
       "      <td>VA</td>\n",
       "      <td>37.0867</td>\n",
       "      <td>-76.4941</td>\n",
       "      <td>2019-12-26</td>\n",
       "      <td>0.833333</td>\n",
       "    </tr>\n",
       "    <tr>\n",
       "      <th>2</th>\n",
       "      <td>2</td>\n",
       "      <td>5668639686</td>\n",
       "      <td>2.0</td>\n",
       "      <td>3.0</td>\n",
       "      <td>No</td>\n",
       "      <td>1395.0</td>\n",
       "      <td>1650</td>\n",
       "      <td>Raleigh</td>\n",
       "      <td>NC</td>\n",
       "      <td>35.8230</td>\n",
       "      <td>-78.6438</td>\n",
       "      <td>2019-12-26</td>\n",
       "      <td>0.845455</td>\n",
       "    </tr>\n",
       "    <tr>\n",
       "      <th>3</th>\n",
       "      <td>3</td>\n",
       "      <td>5668639659</td>\n",
       "      <td>1.0</td>\n",
       "      <td>2.0</td>\n",
       "      <td>No</td>\n",
       "      <td>1600.0</td>\n",
       "      <td>820</td>\n",
       "      <td>Vacaville</td>\n",
       "      <td>CA</td>\n",
       "      <td>38.3622</td>\n",
       "      <td>-121.9712</td>\n",
       "      <td>2019-12-26</td>\n",
       "      <td>1.951220</td>\n",
       "    </tr>\n",
       "    <tr>\n",
       "      <th>4</th>\n",
       "      <td>4</td>\n",
       "      <td>5668639374</td>\n",
       "      <td>1.0</td>\n",
       "      <td>1.0</td>\n",
       "      <td>No</td>\n",
       "      <td>975.0</td>\n",
       "      <td>624</td>\n",
       "      <td>Albuquerque</td>\n",
       "      <td>NM</td>\n",
       "      <td>35.1038</td>\n",
       "      <td>-106.6110</td>\n",
       "      <td>2019-12-26</td>\n",
       "      <td>1.562500</td>\n",
       "    </tr>\n",
       "  </tbody>\n",
       "</table>\n",
       "</div>"
      ],
      "text/plain": [
       "   Unnamed: 0          id  bathrooms  bedrooms fee   price  square_feet  \\\n",
       "0           0  5668640009        1.0       1.0  No  2195.0          542   \n",
       "1           1  5668639818        1.5       3.0  No  1250.0         1500   \n",
       "2           2  5668639686        2.0       3.0  No  1395.0         1650   \n",
       "3           3  5668639659        1.0       2.0  No  1600.0          820   \n",
       "4           4  5668639374        1.0       1.0  No   975.0          624   \n",
       "\n",
       "        cityname state  latitude  longitude        date  price_per_square_ft  \n",
       "0  Redondo Beach    CA   33.8520  -118.3759  2019-12-26             4.049815  \n",
       "1   Newport News    VA   37.0867   -76.4941  2019-12-26             0.833333  \n",
       "2        Raleigh    NC   35.8230   -78.6438  2019-12-26             0.845455  \n",
       "3      Vacaville    CA   38.3622  -121.9712  2019-12-26             1.951220  \n",
       "4    Albuquerque    NM   35.1038  -106.6110  2019-12-26             1.562500  "
      ]
     },
     "execution_count": 25,
     "metadata": {},
     "output_type": "execute_result"
    }
   ],
   "source": [
    "data = pd.read_csv(data_filepath)\n",
    "\n",
    "data.head()"
   ]
  },
  {
   "cell_type": "code",
   "execution_count": 27,
   "id": "6b4b270c-b3b0-41dd-9a07-735b51c87b81",
   "metadata": {},
   "outputs": [
    {
     "data": {
      "text/html": [
       "<div>\n",
       "<style scoped>\n",
       "    .dataframe tbody tr th:only-of-type {\n",
       "        vertical-align: middle;\n",
       "    }\n",
       "\n",
       "    .dataframe tbody tr th {\n",
       "        vertical-align: top;\n",
       "    }\n",
       "\n",
       "    .dataframe thead th {\n",
       "        text-align: right;\n",
       "    }\n",
       "</style>\n",
       "<table border=\"1\" class=\"dataframe\">\n",
       "  <thead>\n",
       "    <tr style=\"text-align: right;\">\n",
       "      <th></th>\n",
       "      <th>state</th>\n",
       "      <th>cityname</th>\n",
       "      <th>price</th>\n",
       "    </tr>\n",
       "  </thead>\n",
       "  <tbody>\n",
       "    <tr>\n",
       "      <th>0</th>\n",
       "      <td>CA</td>\n",
       "      <td>Redondo Beach</td>\n",
       "      <td>2195.0</td>\n",
       "    </tr>\n",
       "    <tr>\n",
       "      <th>1</th>\n",
       "      <td>VA</td>\n",
       "      <td>Newport News</td>\n",
       "      <td>1250.0</td>\n",
       "    </tr>\n",
       "    <tr>\n",
       "      <th>2</th>\n",
       "      <td>NC</td>\n",
       "      <td>Raleigh</td>\n",
       "      <td>1395.0</td>\n",
       "    </tr>\n",
       "    <tr>\n",
       "      <th>3</th>\n",
       "      <td>CA</td>\n",
       "      <td>Vacaville</td>\n",
       "      <td>1600.0</td>\n",
       "    </tr>\n",
       "    <tr>\n",
       "      <th>4</th>\n",
       "      <td>NM</td>\n",
       "      <td>Albuquerque</td>\n",
       "      <td>975.0</td>\n",
       "    </tr>\n",
       "  </tbody>\n",
       "</table>\n",
       "</div>"
      ],
      "text/plain": [
       "  state       cityname   price\n",
       "0    CA  Redondo Beach  2195.0\n",
       "1    VA   Newport News  1250.0\n",
       "2    NC        Raleigh  1395.0\n",
       "3    CA      Vacaville  1600.0\n",
       "4    NM    Albuquerque   975.0"
      ]
     },
     "execution_count": 27,
     "metadata": {},
     "output_type": "execute_result"
    }
   ],
   "source": [
    "data_subset = data[[\"state\", \"cityname\", \"price\"]]\n",
    "\n",
    "data_subset.head()"
   ]
  },
  {
   "cell_type": "markdown",
   "id": "7910dd12-d91c-4439-acdb-10e7fd7c55f4",
   "metadata": {},
   "source": [
    "# Average Price by State"
   ]
  },
  {
   "cell_type": "code",
   "execution_count": 70,
   "id": "af5acd07-b885-4ae7-ad24-f782e6f35c36",
   "metadata": {},
   "outputs": [
    {
     "data": {
      "image/png": "[encoded data removed]",
      "text/plain": [
       "<Figure size 1200x600 with 1 Axes>"
      ]
     },
     "metadata": {},
     "output_type": "display_data"
    }
   ],
   "source": [
    "# data\n",
    "price_average_per_state = data_subset.groupby(\"state\")[\"price\"].mean().reset_index().sort_values(by=\"price\", ascending=False)\n",
    "\n",
    "# figure\n",
    "figure = price_average_per_state.plot.bar(x=\"state\", y=\"price\", figsize=(12,6))\n",
    "\n",
    "# formatting\n",
    "figure.set_title(\"Average Price by State\", fontsize=20, fontweight=\"bold\", pad=10)\n",
    "figure.legend([\"Average Price\"], loc=\"upper right\", frameon=False)\n",
    "figure.set_xlabel(\"State\", labelpad=10)\n",
    "figure.set_ylabel(\"Average Price\", labelpad=10)\n",
    "\n",
    "plt.xticks(rotation=45)\n",
    "for bar in figure.patches:\n",
    "    bar.set_width(0.8)\n",
    "\n",
    "# show\n",
    "plt.show()"
   ]
  },
  {
   "cell_type": "code",
   "execution_count": null,
   "id": "fe087495-4d5c-491a-86b4-19a1433b3f2f",
   "metadata": {},
   "outputs": [],
   "source": []
  }
 ],
 "metadata": {
  "kernelspec": {
   "display_name": "Python 3 (ipykernel)",
   "language": "python",
   "name": "python3"
  },
  "language_info": {
   "codemirror_mode": {
    "name": "ipython",
    "version": 3
   },
   "file_extension": ".py",
   "mimetype": "text/x-python",
   "name": "python",
   "nbconvert_exporter": "python",
   "pygments_lexer": "ipython3",
   "version": "3.12.2"
  }
 },
 "nbformat": 4,
 "nbformat_minor": 5
}
