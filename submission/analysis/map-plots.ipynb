{
 "cells": [
  {
   "cell_type": "code",
   "execution_count": null,
   "id": "58cd3d25-9e18-423b-ba09-00168a9329c2",
   "metadata": {},
   "outputs": [],
   "source": [
    "import pandas as pd\n",
    "import plotly.express as px\n",
    "import json"
   ]
  },
  {
   "cell_type": "code",
   "execution_count": null,
   "id": "108a15d9-977d-486a-b16d-b26fe35f1744",
   "metadata": {},
   "outputs": [],
   "source": [
    "DATA_PATH = \"./data/data.csv\"\n",
    "GEO_DATA_STATES = \"./data/geo/us-states.json\"\n",
    "CUSTOM_COLOR_SCALE = [(0, '#8ECAE6'), (0.33, '#219EBC'), (0.66, '#FFB703'), (1, '#FB8500')]\n",
    "STATE_ABBREV = {\n",
    "    'AL': 'Alabama', 'AK': 'Alaska', 'AZ': 'Arizona', 'AR': 'Arkansas',\n",
    "    'CA': 'California', 'CO': 'Colorado', 'CT': 'Connecticut', 'DC': 'Washington D.C','DE': 'Delaware',\n",
    "    'FL': 'Florida', 'GA': 'Georgia', 'HI': 'Hawaii', 'ID': 'Idaho',\n",
    "    'IL': 'Illinois', 'IN': 'Indiana', 'IA': 'Iowa', 'KS': 'Kansas',\n",
    "    'KY': 'Kentucky', 'LA': 'Louisiana', 'ME': 'Maine', 'MD': 'Maryland',\n",
    "    'MA': 'Massachusetts', 'MI': 'Michigan', 'MN': 'Minnesota', 'MS': 'Mississippi',\n",
    "    'MO': 'Missouri', 'MT': 'Montana', 'NE': 'Nebraska', 'NV': 'Nevada',\n",
    "    'NH': 'New Hampshire', 'NJ': 'New Jersey', 'NM': 'New Mexico', 'NY': 'New York',\n",
    "    'NC': 'North Carolina', 'ND': 'North Dakota', 'OH': 'Ohio', 'OK': 'Oklahoma',\n",
    "    'OR': 'Oregon', 'PA': 'Pennsylvania', 'RI': 'Rhode Island', 'SC': 'South Carolina',\n",
    "    'SD': 'South Dakota', 'TN': 'Tennessee', 'TX': 'Texas', 'UT': 'Utah',\n",
    "    'VT': 'Vermont', 'VA': 'Virginia', 'WA': 'Washington', 'WV': 'West Virginia',\n",
    "    'WI': 'Wisconsin', 'WY': 'Wyoming'\n",
    "}"
   ]
  },
  {
   "cell_type": "code",
   "execution_count": null,
   "id": "0de43ba8-536c-4c66-b676-bc9639173725",
   "metadata": {},
   "outputs": [],
   "source": [
    "#Open the aparments csv\n",
    "df = pd.read_csv(DATA_PATH)"
   ]
  },
  {
   "cell_type": "code",
   "execution_count": null,
   "id": "a97bc979-0e0a-4f0f-aeac-b208dbfaefe2",
   "metadata": {},
   "outputs": [],
   "source": [
    "#Print all the aparments location in US map\n",
    "fig = px.scatter_geo(\n",
    "    df,\n",
    "    lat='latitude',\n",
    "    lon='longitude',\n",
    "    scope='usa'\n",
    ")\n",
    "\n",
    "fig.update_traces(marker=dict(color='#FFB703', size=5))\n",
    "\n",
    "fig.show()"
   ]
  },
  {
   "cell_type": "code",
   "execution_count": null,
   "id": "538d46f5-6d1e-4b89-b947-2442ea006ad8",
   "metadata": {},
   "outputs": [],
   "source": [
    "state_average_price = df.groupby(\"state\")[\"price\"].mean()\n",
    "states_names = pd.Series(state_average_price.index.map(state_abbrev))"
   ]
  },
  {
   "cell_type": "code",
   "execution_count": null,
   "id": "1948bce3-0464-47c0-9433-7047d378b16a",
   "metadata": {},
   "outputs": [],
   "source": [
    "states_names, state_average_price = states_names.reset_index(drop = True), state_average_price.reset_index(drop = True)\n",
    "state_avg_price_df = pd.DataFrame({'state': states_names, 'price': state_average_price})"
   ]
  },
  {
   "cell_type": "code",
   "execution_count": null,
   "id": "1afd2d48-add5-407b-84c1-1e08749b6ff7",
   "metadata": {},
   "outputs": [],
   "source": [
    "# Open the file and load the GEO data\n",
    "with open(GEO_DATA_STATES, 'r') as states_json_file:\n",
    "    states = json.load(states_json_file)\n",
    "\n",
    "#\"Average Apartment Prices by State in the U.S.\"\n",
    "fig = px.choropleth(state_avg_price_df, geojson=states,\n",
    "                    color_continuous_scale=custom_color_scale,\n",
    "                    locations='state',                \n",
    "                    featureidkey='properties.name',  \n",
    "                    color='price',\n",
    "                    range_color=(state_average_price.min(), state_average_price.max()),\n",
    "                    scope=\"usa\")\n",
    "\n",
    "fig.update_layout(margin={\"r\":0,\"t\":0,\"l\":0,\"b\":0})\n",
    "fig.show()"
   ]
  }
 ],
 "metadata": {
  "kernelspec": {
   "display_name": "Python 3 (ipykernel)",
   "language": "python",
   "name": "python3"
  },
  "language_info": {
   "codemirror_mode": {
    "name": "ipython",
    "version": 3
   },
   "file_extension": ".py",
   "mimetype": "text/x-python",
   "name": "python",
   "nbconvert_exporter": "python",
   "pygments_lexer": "ipython3",
   "version": "3.12.4"
  }
 },
 "nbformat": 4,
 "nbformat_minor": 5
}
