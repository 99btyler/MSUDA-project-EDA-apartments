{
 "cells": [
  {
   "cell_type": "code",
   "execution_count": 140,
   "id": "33f92894-4c8b-4f3b-b28a-e70b4de6cb42",
   "metadata": {},
   "outputs": [],
   "source": [
    "import pandas as pd\n",
    "\n",
    "data_filepath = \"data-unclean.csv\""
   ]
  },
  {
   "cell_type": "code",
   "execution_count": 141,
   "id": "94e6ca76-3ba1-45ba-ab3f-9910aef01b82",
   "metadata": {},
   "outputs": [
    {
     "name": "stderr",
     "output_type": "stream",
     "text": [
      "/var/folders/t0/l5bcbd_n75g4yvrybp7c4l380000gn/T/ipykernel_6460/1350613338.py:1: DtypeWarning: Columns (15) have mixed types. Specify dtype option on import or set low_memory=False.\n",
      "  data = pd.read_csv(data_filepath)\n"
     ]
    },
    {
     "data": {
      "text/html": [
       "<div>\n",
       "<style scoped>\n",
       "    .dataframe tbody tr th:only-of-type {\n",
       "        vertical-align: middle;\n",
       "    }\n",
       "\n",
       "    .dataframe tbody tr th {\n",
       "        vertical-align: top;\n",
       "    }\n",
       "\n",
       "    .dataframe thead th {\n",
       "        text-align: right;\n",
       "    }\n",
       "</style>\n",
       "<table border=\"1\" class=\"dataframe\">\n",
       "  <thead>\n",
       "    <tr style=\"text-align: right;\">\n",
       "      <th></th>\n",
       "      <th>id</th>\n",
       "      <th>category</th>\n",
       "      <th>title</th>\n",
       "      <th>body</th>\n",
       "      <th>amenities</th>\n",
       "      <th>bathrooms</th>\n",
       "      <th>bedrooms</th>\n",
       "      <th>currency</th>\n",
       "      <th>fee</th>\n",
       "      <th>has_photo</th>\n",
       "      <th>...</th>\n",
       "      <th>price_display</th>\n",
       "      <th>price_type</th>\n",
       "      <th>square_feet</th>\n",
       "      <th>address</th>\n",
       "      <th>cityname</th>\n",
       "      <th>state</th>\n",
       "      <th>latitude</th>\n",
       "      <th>longitude</th>\n",
       "      <th>source</th>\n",
       "      <th>time</th>\n",
       "    </tr>\n",
       "  </thead>\n",
       "  <tbody>\n",
       "    <tr>\n",
       "      <th>0</th>\n",
       "      <td>5668640009</td>\n",
       "      <td>housing/rent/apartment</td>\n",
       "      <td>One BR 507 &amp; 509 Esplanade</td>\n",
       "      <td>This unit is located at 507 &amp; 509 Esplanade, R...</td>\n",
       "      <td>NaN</td>\n",
       "      <td>1.0</td>\n",
       "      <td>1.0</td>\n",
       "      <td>USD</td>\n",
       "      <td>No</td>\n",
       "      <td>Thumbnail</td>\n",
       "      <td>...</td>\n",
       "      <td>$2,195</td>\n",
       "      <td>Monthly</td>\n",
       "      <td>542</td>\n",
       "      <td>507  509 Esplanade</td>\n",
       "      <td>Redondo Beach</td>\n",
       "      <td>CA</td>\n",
       "      <td>338.520</td>\n",
       "      <td>-1.183.759</td>\n",
       "      <td>RentLingo</td>\n",
       "      <td>1577360355</td>\n",
       "    </tr>\n",
       "    <tr>\n",
       "      <th>1</th>\n",
       "      <td>5668639818</td>\n",
       "      <td>housing/rent/apartment</td>\n",
       "      <td>Three BR 146 Lochview Drive</td>\n",
       "      <td>This unit is located at 146 Lochview Drive, Ne...</td>\n",
       "      <td>NaN</td>\n",
       "      <td>1.5</td>\n",
       "      <td>3.0</td>\n",
       "      <td>USD</td>\n",
       "      <td>No</td>\n",
       "      <td>Thumbnail</td>\n",
       "      <td>...</td>\n",
       "      <td>$1,250</td>\n",
       "      <td>Monthly</td>\n",
       "      <td>1500</td>\n",
       "      <td>146 Lochview Dr</td>\n",
       "      <td>Newport News</td>\n",
       "      <td>VA</td>\n",
       "      <td>370.867</td>\n",
       "      <td>-764.941</td>\n",
       "      <td>RentLingo</td>\n",
       "      <td>1577360340</td>\n",
       "    </tr>\n",
       "    <tr>\n",
       "      <th>2</th>\n",
       "      <td>5668639686</td>\n",
       "      <td>housing/rent/apartment</td>\n",
       "      <td>Three BR 3101 Morningside Drive</td>\n",
       "      <td>This unit is located at 3101 Morningside Drive...</td>\n",
       "      <td>NaN</td>\n",
       "      <td>2.0</td>\n",
       "      <td>3.0</td>\n",
       "      <td>USD</td>\n",
       "      <td>No</td>\n",
       "      <td>Thumbnail</td>\n",
       "      <td>...</td>\n",
       "      <td>$1,395</td>\n",
       "      <td>Monthly</td>\n",
       "      <td>1650</td>\n",
       "      <td>3101 Morningside Dr</td>\n",
       "      <td>Raleigh</td>\n",
       "      <td>NC</td>\n",
       "      <td>358.230</td>\n",
       "      <td>-786.438</td>\n",
       "      <td>RentLingo</td>\n",
       "      <td>1577360332</td>\n",
       "    </tr>\n",
       "    <tr>\n",
       "      <th>3</th>\n",
       "      <td>5668639659</td>\n",
       "      <td>housing/rent/apartment</td>\n",
       "      <td>Two BR 209 Aegean Way</td>\n",
       "      <td>This unit is located at 209 Aegean Way, Vacavi...</td>\n",
       "      <td>NaN</td>\n",
       "      <td>1.0</td>\n",
       "      <td>2.0</td>\n",
       "      <td>USD</td>\n",
       "      <td>No</td>\n",
       "      <td>Thumbnail</td>\n",
       "      <td>...</td>\n",
       "      <td>$1,600</td>\n",
       "      <td>Monthly</td>\n",
       "      <td>820</td>\n",
       "      <td>209 Aegean Way</td>\n",
       "      <td>Vacaville</td>\n",
       "      <td>CA</td>\n",
       "      <td>383.622</td>\n",
       "      <td>-1.219.712</td>\n",
       "      <td>RentLingo</td>\n",
       "      <td>1577360330</td>\n",
       "    </tr>\n",
       "    <tr>\n",
       "      <th>4</th>\n",
       "      <td>5668639374</td>\n",
       "      <td>housing/rent/apartment</td>\n",
       "      <td>One BR 4805 Marquette NE</td>\n",
       "      <td>This unit is located at 4805 Marquette NE, Alb...</td>\n",
       "      <td>NaN</td>\n",
       "      <td>1.0</td>\n",
       "      <td>1.0</td>\n",
       "      <td>USD</td>\n",
       "      <td>No</td>\n",
       "      <td>Thumbnail</td>\n",
       "      <td>...</td>\n",
       "      <td>$975</td>\n",
       "      <td>Monthly</td>\n",
       "      <td>624</td>\n",
       "      <td>4805 Marquette NE</td>\n",
       "      <td>Albuquerque</td>\n",
       "      <td>NM</td>\n",
       "      <td>351.038</td>\n",
       "      <td>-1.066.110</td>\n",
       "      <td>RentLingo</td>\n",
       "      <td>1577360308</td>\n",
       "    </tr>\n",
       "  </tbody>\n",
       "</table>\n",
       "<p>5 rows × 22 columns</p>\n",
       "</div>"
      ],
      "text/plain": [
       "           id                category                            title  \\\n",
       "0  5668640009  housing/rent/apartment       One BR 507 & 509 Esplanade   \n",
       "1  5668639818  housing/rent/apartment      Three BR 146 Lochview Drive   \n",
       "2  5668639686  housing/rent/apartment  Three BR 3101 Morningside Drive   \n",
       "3  5668639659  housing/rent/apartment            Two BR 209 Aegean Way   \n",
       "4  5668639374  housing/rent/apartment         One BR 4805 Marquette NE   \n",
       "\n",
       "                                                body amenities  bathrooms  \\\n",
       "0  This unit is located at 507 & 509 Esplanade, R...       NaN        1.0   \n",
       "1  This unit is located at 146 Lochview Drive, Ne...       NaN        1.5   \n",
       "2  This unit is located at 3101 Morningside Drive...       NaN        2.0   \n",
       "3  This unit is located at 209 Aegean Way, Vacavi...       NaN        1.0   \n",
       "4  This unit is located at 4805 Marquette NE, Alb...       NaN        1.0   \n",
       "\n",
       "   bedrooms currency fee  has_photo  ... price_display  price_type  \\\n",
       "0       1.0      USD  No  Thumbnail  ...        $2,195     Monthly   \n",
       "1       3.0      USD  No  Thumbnail  ...        $1,250     Monthly   \n",
       "2       3.0      USD  No  Thumbnail  ...        $1,395     Monthly   \n",
       "3       2.0      USD  No  Thumbnail  ...        $1,600     Monthly   \n",
       "4       1.0      USD  No  Thumbnail  ...          $975     Monthly   \n",
       "\n",
       "  square_feet              address       cityname state latitude   longitude  \\\n",
       "0         542   507  509 Esplanade  Redondo Beach    CA  338.520  -1.183.759   \n",
       "1        1500      146 Lochview Dr   Newport News    VA  370.867    -764.941   \n",
       "2        1650  3101 Morningside Dr        Raleigh    NC  358.230    -786.438   \n",
       "3         820       209 Aegean Way      Vacaville    CA  383.622  -1.219.712   \n",
       "4         624    4805 Marquette NE    Albuquerque    NM  351.038  -1.066.110   \n",
       "\n",
       "      source        time  \n",
       "0  RentLingo  1577360355  \n",
       "1  RentLingo  1577360340  \n",
       "2  RentLingo  1577360332  \n",
       "3  RentLingo  1577360330  \n",
       "4  RentLingo  1577360308  \n",
       "\n",
       "[5 rows x 22 columns]"
      ]
     },
     "execution_count": 141,
     "metadata": {},
     "output_type": "execute_result"
    }
   ],
   "source": [
    "data = pd.read_csv(data_filepath)\n",
    "\n",
    "data.head()"
   ]
  },
  {
   "cell_type": "code",
   "execution_count": 164,
   "id": "1cbcd281-5e37-4e3f-8793-93a144e8abfa",
   "metadata": {},
   "outputs": [
    {
     "name": "stdout",
     "output_type": "stream",
     "text": [
      "COUNT OF TYPES BEFORE:\n",
      "address\n",
      "<class 'float'>    91549\n",
      "<class 'str'>       7943\n",
      "Name: count, dtype: int64\n",
      "------------------------\n",
      "COUNT OF TYPES AFTER:\n",
      "address\n",
      "<class 'str'>    99492\n",
      "Name: count, dtype: int64\n"
     ]
    }
   ],
   "source": [
    "# Fixing DtypeWarning: Columns (15) have mixed types\n",
    "data = pd.read_csv(data_filepath, dtype={\"address\": str})\n",
    "\n",
    "print(f\"COUNT OF TYPES BEFORE:\\n{data[\"address\"].apply(type).value_counts()}\\n------------------------\")\n",
    "\n",
    "problematic_rows = data[~data[\"address\"].apply(lambda address: isinstance(address, str))]\n",
    "data[\"address\"] = data[\"address\"].fillna(\"Unknown\") # CLEANING\n",
    "\n",
    "print(f\"COUNT OF TYPES AFTER:\\n{data[\"address\"].apply(type).value_counts()}\")"
   ]
  },
  {
   "cell_type": "code",
   "execution_count": 143,
   "id": "7961a006-6a99-49e7-8056-44b0d09efba5",
   "metadata": {},
   "outputs": [
    {
     "name": "stdout",
     "output_type": "stream",
     "text": [
      "<class 'pandas.core.frame.DataFrame'>\n",
      "RangeIndex: 99492 entries, 0 to 99491\n",
      "Data columns (total 22 columns):\n",
      " #   Column         Non-Null Count  Dtype  \n",
      "---  ------         --------------  -----  \n",
      " 0   id             99492 non-null  int64  \n",
      " 1   category       99492 non-null  object \n",
      " 2   title          99492 non-null  object \n",
      " 3   body           99489 non-null  object \n",
      " 4   amenities      83448 non-null  object \n",
      " 5   bathrooms      99429 non-null  float64\n",
      " 6   bedrooms       99368 non-null  float64\n",
      " 7   currency       99492 non-null  object \n",
      " 8   fee            99492 non-null  object \n",
      " 9   has_photo      99492 non-null  object \n",
      " 10  pets_allowed   39068 non-null  object \n",
      " 11  price          99491 non-null  float64\n",
      " 12  price_display  99491 non-null  object \n",
      " 13  price_type     99492 non-null  object \n",
      " 14  square_feet    99492 non-null  int64  \n",
      " 15  address        99492 non-null  object \n",
      " 16  cityname       99190 non-null  object \n",
      " 17  state          99190 non-null  object \n",
      " 18  latitude       99467 non-null  float64\n",
      " 19  longitude      99467 non-null  object \n",
      " 20  source         99492 non-null  object \n",
      " 21  time           99492 non-null  int64  \n",
      "dtypes: float64(4), int64(3), object(15)\n",
      "memory usage: 16.7+ MB\n"
     ]
    }
   ],
   "source": [
    "data.info()"
   ]
  },
  {
   "cell_type": "code",
   "execution_count": 144,
   "id": "8e0fb710-fa86-44bd-b318-cdf99f4c1ea2",
   "metadata": {},
   "outputs": [
    {
     "data": {
      "text/plain": [
       "Index(['id', 'category', 'title', 'body', 'amenities', 'bathrooms', 'bedrooms',\n",
       "       'currency', 'fee', 'has_photo', 'pets_allowed', 'price',\n",
       "       'price_display', 'price_type', 'square_feet', 'address', 'cityname',\n",
       "       'state', 'latitude', 'longitude', 'source', 'time'],\n",
       "      dtype='object')"
      ]
     },
     "execution_count": 144,
     "metadata": {},
     "output_type": "execute_result"
    }
   ],
   "source": [
    "data.columns"
   ]
  },
  {
   "cell_type": "code",
   "execution_count": 145,
   "id": "0fb6414f-2732-4787-8658-b66524d17f09",
   "metadata": {},
   "outputs": [],
   "source": [
    "data[\"body\"] = data[\"body\"].fillna(\"Unknown\") # CLEANING"
   ]
  },
  {
   "cell_type": "code",
   "execution_count": 169,
   "id": "76d64122-91c8-482c-be4b-cdcb3803e028",
   "metadata": {},
   "outputs": [],
   "source": [
    "data[\"amenities\"] = data[\"amenities\"].fillna(\"Unknown\") # CLEANING"
   ]
  },
  {
   "cell_type": "code",
   "execution_count": 147,
   "id": "395bdc7a-7b41-4978-b576-f98c9b7c44b4",
   "metadata": {},
   "outputs": [
    {
     "data": {
      "text/plain": [
       "array([1.0, 1.5, 2.0, 2.5, 3.0, 3.5, 4.0, 7.0, 4.5, 'Unknown', 5.0, 8.0,\n",
       "       8.5, 6.0, 5.5, 9.0, 7.5], dtype=object)"
      ]
     },
     "execution_count": 147,
     "metadata": {},
     "output_type": "execute_result"
    }
   ],
   "source": [
    "data[\"bathrooms\"] = data[\"bathrooms\"].fillna(\"Unknown\") # CLEANING\n",
    "data[\"bathrooms\"].unique()"
   ]
  },
  {
   "cell_type": "code",
   "execution_count": 148,
   "id": "524780c6-1dac-4f49-b249-ec5044f3b47f",
   "metadata": {},
   "outputs": [
    {
     "data": {
      "text/plain": [
       "array([1.0, 3.0, 2.0, 4.0, 0.0, 5.0, 7.0, 8.0, 'Unknown', 6.0, 9.0],\n",
       "      dtype=object)"
      ]
     },
     "execution_count": 148,
     "metadata": {},
     "output_type": "execute_result"
    }
   ],
   "source": [
    "data[\"bedrooms\"] = data[\"bedrooms\"].fillna(\"Unknown\") # CLEANING\n",
    "data[\"bedrooms\"].unique()"
   ]
  },
  {
   "cell_type": "code",
   "execution_count": 149,
   "id": "a410a131-286b-416f-8aa0-d60fc45cd86f",
   "metadata": {},
   "outputs": [
    {
     "data": {
      "text/plain": [
       "array(['Cats', 'Cats,Dogs', 'Unknown', 'Dogs', 'Cats,Dogs,None'],\n",
       "      dtype=object)"
      ]
     },
     "execution_count": 149,
     "metadata": {},
     "output_type": "execute_result"
    }
   ],
   "source": [
    "data[\"pets_allowed\"] = data[\"pets_allowed\"].fillna(\"Unknown\") # CLEANING\n",
    "data[\"pets_allowed\"].unique()"
   ]
  },
  {
   "cell_type": "code",
   "execution_count": 150,
   "id": "44ca9569-1ba3-42c6-a815-d03f7cc890a9",
   "metadata": {},
   "outputs": [
    {
     "data": {
      "text/html": [
       "<div>\n",
       "<style scoped>\n",
       "    .dataframe tbody tr th:only-of-type {\n",
       "        vertical-align: middle;\n",
       "    }\n",
       "\n",
       "    .dataframe tbody tr th {\n",
       "        vertical-align: top;\n",
       "    }\n",
       "\n",
       "    .dataframe thead th {\n",
       "        text-align: right;\n",
       "    }\n",
       "</style>\n",
       "<table border=\"1\" class=\"dataframe\">\n",
       "  <thead>\n",
       "    <tr style=\"text-align: right;\">\n",
       "      <th></th>\n",
       "      <th>id</th>\n",
       "      <th>category</th>\n",
       "      <th>title</th>\n",
       "      <th>body</th>\n",
       "      <th>amenities</th>\n",
       "      <th>bathrooms</th>\n",
       "      <th>bedrooms</th>\n",
       "      <th>currency</th>\n",
       "      <th>fee</th>\n",
       "      <th>has_photo</th>\n",
       "      <th>...</th>\n",
       "      <th>price_display</th>\n",
       "      <th>price_type</th>\n",
       "      <th>square_feet</th>\n",
       "      <th>address</th>\n",
       "      <th>cityname</th>\n",
       "      <th>state</th>\n",
       "      <th>latitude</th>\n",
       "      <th>longitude</th>\n",
       "      <th>source</th>\n",
       "      <th>time</th>\n",
       "    </tr>\n",
       "  </thead>\n",
       "  <tbody>\n",
       "    <tr>\n",
       "      <th>83369</th>\n",
       "      <td>5168200637</td>\n",
       "      <td>housing/rent/apartment</td>\n",
       "      <td>1 BR In St Paul Southwest</td>\n",
       "      <td>xxxxxxxxxx.xxx Listing ID xxx-xxx-xxxx. AVAILA...</td>\n",
       "      <td>Unknown</td>\n",
       "      <td>1.0</td>\n",
       "      <td>1.0</td>\n",
       "      <td>USD</td>\n",
       "      <td>No</td>\n",
       "      <td>Thumbnail</td>\n",
       "      <td>...</td>\n",
       "      <td>$930</td>\n",
       "      <td>Monthly</td>\n",
       "      <td>720</td>\n",
       "      <td>Unknown</td>\n",
       "      <td>Saint Paul</td>\n",
       "      <td>MN</td>\n",
       "      <td>448.935</td>\n",
       "      <td>-931.084</td>\n",
       "      <td>RealRentals</td>\n",
       "      <td>1548536317</td>\n",
       "    </tr>\n",
       "  </tbody>\n",
       "</table>\n",
       "<p>1 rows × 22 columns</p>\n",
       "</div>"
      ],
      "text/plain": [
       "               id                category                      title  \\\n",
       "83369  5168200637  housing/rent/apartment  1 BR In St Paul Southwest   \n",
       "\n",
       "                                                    body amenities bathrooms  \\\n",
       "83369  xxxxxxxxxx.xxx Listing ID xxx-xxx-xxxx. AVAILA...   Unknown       1.0   \n",
       "\n",
       "      bedrooms currency fee  has_photo  ... price_display  price_type  \\\n",
       "83369      1.0      USD  No  Thumbnail  ...          $930     Monthly   \n",
       "\n",
       "      square_feet  address    cityname state latitude longitude       source  \\\n",
       "83369         720  Unknown  Saint Paul    MN  448.935  -931.084  RealRentals   \n",
       "\n",
       "             time  \n",
       "83369  1548536317  \n",
       "\n",
       "[1 rows x 22 columns]"
      ]
     },
     "execution_count": 150,
     "metadata": {},
     "output_type": "execute_result"
    }
   ],
   "source": [
    " data[data[\"pets_allowed\"] == \"Cats,Dogs,None\"]"
   ]
  },
  {
   "cell_type": "code",
   "execution_count": 151,
   "id": "a400139a-06df-4151-818c-7637131036eb",
   "metadata": {},
   "outputs": [],
   "source": [
    "data[\"price\"] = data[\"price\"].fillna(\"Unknown\") # CLEANING\n",
    "data[\"price_display\"] = data[\"price_display\"].fillna(\"Unknown\") # CLEANING"
   ]
  },
  {
   "cell_type": "code",
   "execution_count": 152,
   "id": "2cb76729-2b80-4607-a095-637b52712b5c",
   "metadata": {},
   "outputs": [],
   "source": [
    "data[\"cityname\"] = data[\"cityname\"].fillna(\"Unknown\") # CLEANING"
   ]
  },
  {
   "cell_type": "code",
   "execution_count": 153,
   "id": "b7da2ca3-f441-43ab-9f88-b58d51c5e953",
   "metadata": {},
   "outputs": [],
   "source": [
    "data[\"state\"] = data[\"state\"].fillna(\"Unknown\") # CLEANING"
   ]
  },
  {
   "cell_type": "code",
   "execution_count": 154,
   "id": "50829f48-9007-4a83-a261-14aa00dfb223",
   "metadata": {},
   "outputs": [],
   "source": [
    "data[\"latitude\"] = data[\"latitude\"].fillna(\"Unknown\") # CLEANING\n",
    "data[\"longitude\"] = data[\"longitude\"].fillna(\"Unknown\") # CLEANING"
   ]
  },
  {
   "cell_type": "code",
   "execution_count": 155,
   "id": "098042a7-758b-4fe4-bf48-225faba612a4",
   "metadata": {},
   "outputs": [],
   "source": [
    "data[\"source\"] = data[\"source\"].fillna(\"Unknown\") # CLEANING"
   ]
  },
  {
   "cell_type": "code",
   "execution_count": 156,
   "id": "8998e982-551f-4973-bebb-3b66a196977d",
   "metadata": {},
   "outputs": [],
   "source": [
    "data[\"time\"] = data[\"time\"].fillna(\"Unknown\") # CLEANING"
   ]
  },
  {
   "cell_type": "code",
   "execution_count": 157,
   "id": "ee01255b-6c90-4170-b478-f7dd598866aa",
   "metadata": {},
   "outputs": [
    {
     "name": "stdout",
     "output_type": "stream",
     "text": [
      "<class 'pandas.core.frame.DataFrame'>\n",
      "RangeIndex: 99492 entries, 0 to 99491\n",
      "Data columns (total 22 columns):\n",
      " #   Column         Non-Null Count  Dtype \n",
      "---  ------         --------------  ----- \n",
      " 0   id             99492 non-null  int64 \n",
      " 1   category       99492 non-null  object\n",
      " 2   title          99492 non-null  object\n",
      " 3   body           99492 non-null  object\n",
      " 4   amenities      99492 non-null  object\n",
      " 5   bathrooms      99492 non-null  object\n",
      " 6   bedrooms       99492 non-null  object\n",
      " 7   currency       99492 non-null  object\n",
      " 8   fee            99492 non-null  object\n",
      " 9   has_photo      99492 non-null  object\n",
      " 10  pets_allowed   99492 non-null  object\n",
      " 11  price          99492 non-null  object\n",
      " 12  price_display  99492 non-null  object\n",
      " 13  price_type     99492 non-null  object\n",
      " 14  square_feet    99492 non-null  int64 \n",
      " 15  address        99492 non-null  object\n",
      " 16  cityname       99492 non-null  object\n",
      " 17  state          99492 non-null  object\n",
      " 18  latitude       99492 non-null  object\n",
      " 19  longitude      99492 non-null  object\n",
      " 20  source         99492 non-null  object\n",
      " 21  time           99492 non-null  int64 \n",
      "dtypes: int64(3), object(19)\n",
      "memory usage: 16.7+ MB\n"
     ]
    }
   ],
   "source": [
    "data.info()"
   ]
  },
  {
   "cell_type": "code",
   "execution_count": 159,
   "id": "62f538e6-3d63-4400-a7c2-63c6d8b361d5",
   "metadata": {},
   "outputs": [],
   "source": [
    "data.to_csv(\"data.csv\")"
   ]
  },
  {
   "cell_type": "code",
   "execution_count": null,
   "id": "1ba58021-f9f6-4dd0-929b-119d6c3d2daa",
   "metadata": {},
   "outputs": [],
   "source": []
  }
 ],
 "metadata": {
  "kernelspec": {
   "display_name": "Python 3 (ipykernel)",
   "language": "python",
   "name": "python3"
  },
  "language_info": {
   "codemirror_mode": {
    "name": "ipython",
    "version": 3
   },
   "file_extension": ".py",
   "mimetype": "text/x-python",
   "name": "python",
   "nbconvert_exporter": "python",
   "pygments_lexer": "ipython3",
   "version": "3.12.2"
  }
 },
 "nbformat": 4,
 "nbformat_minor": 5
}
